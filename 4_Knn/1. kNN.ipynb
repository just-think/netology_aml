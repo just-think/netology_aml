{
 "cells": [
  {
   "cell_type": "markdown",
   "metadata": {},
   "source": [
    "# Метод k ближайших соседей"
   ]
  },
  {
   "cell_type": "markdown",
   "metadata": {},
   "source": [
    "### Сформируем данные"
   ]
  },
  {
   "cell_type": "code",
   "execution_count": 1,
   "metadata": {},
   "outputs": [],
   "source": [
    "import random\n",
    "import numpy as np\n",
    "import matplotlib.pyplot as plt\n",
    "from matplotlib.colors import ListedColormap"
   ]
  },
  {
   "cell_type": "code",
   "execution_count": 2,
   "metadata": {},
   "outputs": [],
   "source": [
    "def generateRandomCluster( xCenter, yCenter, pointsInCluster, sigma, clusterNumber ):\n",
    "    \"\"\"\n",
    "    Функция формирует набор случайных pointsInCluster точек вокруг центра xCenter, yCenter со стандартным отклонением sigma.\n",
    "    Для удобства сразу приписываем номер кластера clusterNumber\n",
    "    \n",
    "    Пример\n",
    "    generateRandomCluster( 50, 50, 5, 1, 1 )\n",
    "    \n",
    "    [ (49.4383741073746, 50.759631072447775, 1),\n",
    "     (50.382663637239496, 51.958511415275346, 1),\n",
    "     (51.35861614413671, 50.14508008851586, 1),\n",
    "     (49.99654565817289, 48.868625830102836, 1),\n",
    "     (48.90429842105296, 50.30684883451077, 1) ]\n",
    "    \"\"\"\n",
    "    \n",
    "    clusterData = []\n",
    "    for point in range( pointsInCluster ):\n",
    "        clusterData.append( ( random.gauss( xCenter, sigma ), random.gauss( yCenter, sigma ), clusterNumber ) )\n",
    "    \n",
    "    return clusterData"
   ]
  },
  {
   "cell_type": "code",
   "execution_count": 3,
   "metadata": {},
   "outputs": [],
   "source": [
    "def generateNClusters( clustersNumber, minCoordinate, maxLength, pointsInCluster, sigma ):\n",
    "    \"\"\"\n",
    "    Функция генерит clustersNumber кластеров в пределах (x, y) координат от minCoordinate до minCoordinate + maxLength\n",
    "    \n",
    "    Пример\n",
    "    generateNClusters( 3, 0, 100, 5, 1 )\n",
    "    \n",
    "    [\n",
    "        [ (30.101595428493244, 97.81846577317793, 0),\n",
    "          (30.982265309141784, 94.85561016707207, 0),\n",
    "          (29.324361801401345, 96.13225349356063, 0),\n",
    "          (28.55314432177591, 97.71789084567285, 0),\n",
    "          (30.925804186398505, 97.73651238892455, 0)],\n",
    "        [ (35.42172429469604, 62.868371107151994, 1),\n",
    "          (36.36575870693403, 60.81612414265114, 1),\n",
    "          (36.3958015730347, 60.845554677754464, 1),\n",
    "          (35.29157575130411, 63.179905869433654, 1),\n",
    "          (38.19703749175945, 61.839734328145795, 1)],\n",
    "        [ (92.22845587073014, 40.18055397530009, 2),\n",
    "          (90.7642755825596, 40.68519067128221, 2),\n",
    "          (92.27913966714033, 39.604710170714505, 2),\n",
    "          (93.57420210013105, 40.20564381974239, 2),\n",
    "          (92.33724850339567, 40.261922276131735, 2)]\n",
    "    ]\n",
    "    \"\"\"\n",
    "    \n",
    "    clustersData = []\n",
    "    for cluster in range( clustersNumber ):\n",
    "        clustersData.append( generateRandomCluster( minCoordinate + maxLength * random.random(), \n",
    "                                                    minCoordinate + maxLength * random.random(),\n",
    "                                                    pointsInCluster,\n",
    "                                                    sigma, cluster) )\n",
    "    \n",
    "    return clustersData"
   ]
  },
  {
   "cell_type": "code",
   "execution_count": 4,
   "metadata": {},
   "outputs": [],
   "source": [
    "def drawClusters( clustersData ):\n",
    "    \"\"\"\n",
    "    Функция рисует набор кластеров по данным clustersData\n",
    "    \"\"\"\n",
    "    \n",
    "    for cluster in clustersData:\n",
    "        xData = []\n",
    "        yData = []\n",
    "        colors = []\n",
    "        \n",
    "        for point in cluster:\n",
    "            xData.append( point[0] )\n",
    "            yData.append( point[1] )\n",
    "            colors.append( point[2] )\n",
    "    \n",
    "        plt.scatter( xData, yData, label = colors[0] )\n",
    "        \n",
    "    plt.legend( loc='upper right' )\n",
    "    plt.show()"
   ]
  },
  {
   "cell_type": "code",
   "execution_count": 5,
   "metadata": {},
   "outputs": [],
   "source": [
    "clustersNumber = 3\n",
    "minCoordinate = 0\n",
    "maxLength = 100\n",
    "pointsInCluster = 15\n",
    "sigma = 5"
   ]
  },
  {
   "cell_type": "code",
   "execution_count": 31,
   "metadata": {},
   "outputs": [
    {
     "data": {
      "image/png": "[encoded data removed]",
      "text/plain": [
       "<Figure size 432x288 with 1 Axes>"
      ]
     },
     "metadata": {
      "needs_background": "light"
     },
     "output_type": "display_data"
    }
   ],
   "source": [
    "data = generateNClusters( clustersNumber, minCoordinate, maxLength, pointsInCluster, sigma )\n",
    "drawClusters( data )"
   ]
  },
  {
   "cell_type": "markdown",
   "metadata": {},
   "source": [
    "### Строим модель"
   ]
  },
  {
   "cell_type": "code",
   "execution_count": 15,
   "metadata": {},
   "outputs": [],
   "source": [
    "from sklearn.neighbors import KNeighborsClassifier"
   ]
  },
  {
   "cell_type": "code",
   "execution_count": 32,
   "metadata": {},
   "outputs": [],
   "source": [
    "# http://scikit-learn.org/stable/modules/generated/sklearn.neighbors.KNeighborsClassifier.html\n",
    "model = KNeighborsClassifier( n_neighbors = 3 )"
   ]
  },
  {
   "cell_type": "code",
   "execution_count": 33,
   "metadata": {},
   "outputs": [],
   "source": [
    "X = []\n",
    "Y = []\n",
    "\n",
    "for cluster in data:\n",
    "    for point in cluster:\n",
    "        X.append( [ point[0], point[1] ] )\n",
    "        Y.append( point[2] )"
   ]
  },
  {
   "cell_type": "code",
   "execution_count": 34,
   "metadata": {},
   "outputs": [
    {
     "data": {
      "text/plain": [
       "KNeighborsClassifier(algorithm='auto', leaf_size=30, metric='minkowski',\n",
       "                     metric_params=None, n_jobs=None, n_neighbors=3, p=2,\n",
       "                     weights='uniform')"
      ]
     },
     "execution_count": 34,
     "metadata": {},
     "output_type": "execute_result"
    }
   ],
   "source": [
    "model.fit( X, Y )"
   ]
  },
  {
   "cell_type": "code",
   "execution_count": 24,
   "metadata": {},
   "outputs": [],
   "source": [
    "def KNeighbors( clustersData, model ):\n",
    "    \"\"\"\n",
    "    Визуализация результатов классификации\n",
    "    \"\"\"\n",
    "    step = 1\n",
    "    xx, yy = np.meshgrid( np.arange( minCoordinate, minCoordinate + maxLength, step ),\n",
    "                          np.arange( minCoordinate, minCoordinate + maxLength, step ) )\n",
    "    \n",
    "    Z = model.predict( np.c_[ xx.ravel(), yy.ravel() ] )\n",
    "    Z = Z.reshape( xx.shape )\n",
    "    \n",
    "    cmap_light = ListedColormap(['#FFAAAA', '#AAFFAA', '#AAAAFF'])\n",
    "    plt.pcolormesh(xx, yy, Z, cmap = cmap_light)\n",
    "    \n",
    "    for cluster in clustersData:\n",
    "        xData = []\n",
    "        yData = []\n",
    "        colors = []\n",
    "        \n",
    "        for point in cluster:\n",
    "            xData.append( point[0] )\n",
    "            yData.append( point[1] )\n",
    "            colors.append( point[2] )\n",
    "    \n",
    "        plt.scatter( xData, yData, label = colors[0] )\n",
    "        \n",
    "    plt.legend( loc='upper right' )\n",
    "    \n",
    "    plt.show()"
   ]
  },
  {
   "cell_type": "code",
   "execution_count": 35,
   "metadata": {},
   "outputs": [
    {
     "data": {
      "image/png": "[encoded data removed]",
      "text/plain": [
       "<Figure size 432x288 with 1 Axes>"
      ]
     },
     "metadata": {
      "needs_background": "light"
     },
     "output_type": "display_data"
    }
   ],
   "source": [
    "data = generateNClusters( clustersNumber, minCoordinate, maxLength, pointsInCluster, sigma )\n",
    "\n",
    "X = []\n",
    "Y = []\n",
    "\n",
    "for cluster in data:\n",
    "    for point in cluster:\n",
    "        X.append( [ point[0], point[1] ] )\n",
    "        Y.append( point[2] )\n",
    "\n",
    "model.fit( X, Y )\n",
    "\n",
    "KNeighbors( data, model )"
   ]
  }
 ],
 "metadata": {
  "kernelspec": {
   "display_name": "Python 3",
   "language": "python",
   "name": "python3"
  },
  "language_info": {
   "codemirror_mode": {
    "name": "ipython",
    "version": 3
   },
   "file_extension": ".py",
   "mimetype": "text/x-python",
   "name": "python",
   "nbconvert_exporter": "python",
   "pygments_lexer": "ipython3",
   "version": "3.7.4"
  }
 },
 "nbformat": 4,
 "nbformat_minor": 2
}
