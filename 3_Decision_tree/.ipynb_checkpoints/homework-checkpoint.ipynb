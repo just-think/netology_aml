{
 "cells": [
  {
   "cell_type": "markdown",
   "metadata": {},
   "source": [
    "Написать алгоритм дерева, который выполняет задачу классификации. Используйте Gain (он же IG из лекции).В ноутбуке из занятия есть код, который реализовывает IG и критерии информативности. Ваша же задача состоит в том, чтобы можно было подавать данные, и на выходе получать дерево решений, которое может дать ответ. Без каких-либо наворотов, типа \"усечения дерева\".Данные вы можете нагенерить любые."
   ]
  },
  {
   "cell_type": "code",
   "execution_count": null,
   "metadata": {},
   "outputs": [],
   "source": []
  }
 ],
 "metadata": {
  "kernelspec": {
   "display_name": "Python 3",
   "language": "python",
   "name": "python3"
  },
  "language_info": {
   "codemirror_mode": {
    "name": "ipython",
    "version": 3
   },
   "file_extension": ".py",
   "mimetype": "text/x-python",
   "name": "python",
   "nbconvert_exporter": "python",
   "pygments_lexer": "ipython3",
   "version": "3.7.4"
  }
 },
 "nbformat": 4,
 "nbformat_minor": 2
}
