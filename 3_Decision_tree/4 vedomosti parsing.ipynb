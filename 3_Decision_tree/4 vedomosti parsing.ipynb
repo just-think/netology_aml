{
 "cells": [
  {
   "cell_type": "markdown",
   "metadata": {},
   "source": [
    "# Парсинг Ведомостей"
   ]
  },
  {
   "cell_type": "markdown",
   "metadata": {},
   "source": [
    "Используем расширения для Chrome для удобного парсинга http://selectorgadget.com (+ используем fromstring из либы lxml)"
   ]
  },
  {
   "cell_type": "markdown",
   "metadata": {},
   "source": [
    "Будем мультипоточно качать сразу по 50 статей с сайта одновременно (Pool)"
   ]
  },
  {
   "cell_type": "code",
   "execution_count": 1,
   "metadata": {},
   "outputs": [],
   "source": [
    "import pandas as pd"
   ]
  },
  {
   "cell_type": "code",
   "execution_count": 2,
   "metadata": {},
   "outputs": [],
   "source": [
    "from matplotlib import pyplot as plt\n",
    "%matplotlib inline\n",
    "import seaborn as sns"
   ]
  },
  {
   "cell_type": "code",
   "execution_count": 21,
   "metadata": {},
   "outputs": [],
   "source": [
    "import requests\n",
    "from multiprocessing.dummy import Pool\n",
    "from lxml.html import fromstring\n",
    "\n",
    "def get_page(url):\n",
    "    html = requests.get(url).text\n",
    "    dom = fromstring(html)\n",
    "    dom.make_links_absolute(url)\n",
    "    return dom\n",
    "\n",
    "def get_article_urls(url_date):\n",
    "    pattern = '.b-article__title a'\n",
    "    dom = get_page(url_date)\n",
    "    print(f'dom {dom}'  )\n",
    "    return [t.attrib['href'] for t in dom.cssselect(pattern)]\n",
    "\n",
    "def get_article_text(url):\n",
    "    # todo: if 'video' or 'gallery' ... - return ''\n",
    "    pattern_header = 'h1'\n",
    "    patterns = ['.b-news-item__text_one p', '.b-social__layout-mutation p']\n",
    "    \n",
    "    try:\n",
    "        dom = get_page(url)\n",
    "    except Exception as e:\n",
    "        print(e)\n",
    "        return None, None\n",
    "    print(f'dom {dom}'  )\n",
    "    \n",
    "    try:\n",
    "        header = dom.cssselect(pattern_header)[0].text_content().strip()\n",
    "    except:\n",
    "        header = \"\"\n",
    "\n",
    "    try:\n",
    "        css_elements = flatten([dom.cssselect(pattern) for pattern in patterns])\n",
    "        text = \"\\n\\n\".join([t.text_content().strip() for t in css_elements])\n",
    "    except:\n",
    "        text = \"\"\n",
    "\n",
    "    return header, text\n",
    "\n",
    "flatten = lambda l: [item for sublist in l for item in sublist]"
   ]
  },
  {
   "cell_type": "code",
   "execution_count": 4,
   "metadata": {},
   "outputs": [],
   "source": [
    "url_date_template = 'https://www.vedomosti.ru/archive/{}/{}/{}'\n",
    "url_dates = []\n",
    "for y in [2016]:\n",
    "    for m in range(1,13):\n",
    "        for d in range(1,29):\n",
    "            url_dates.append(url_date_template.format(y,m,d))"
   ]
  },
  {
   "cell_type": "code",
   "execution_count": 5,
   "metadata": {},
   "outputs": [],
   "source": [
    "pool = Pool(50)"
   ]
  },
  {
   "cell_type": "code",
   "execution_count": 10,
   "metadata": {},
   "outputs": [
    {
     "name": "stdout",
     "output_type": "stream",
     "text": [
      "Wall time: 9.8 s\n"
     ]
    }
   ],
   "source": [
    "%%time\n",
    "\n",
    "url_articles = pool.map(get_article_urls, url_dates)\n",
    "url_articles = flatten(url_articles)\n",
    "url_articles = [url for url in url_articles if url.split('/')[4] not in {'galleries','video','online'}]"
   ]
  },
  {
   "cell_type": "markdown",
   "metadata": {},
   "source": [
    "вот сколько ссылок на статьи теперь у нас есть"
   ]
  },
  {
   "cell_type": "code",
   "execution_count": 22,
   "metadata": {},
   "outputs": [
    {
     "name": "stdout",
     "output_type": "stream",
     "text": [
      "dom <Element html at 0xb4c3638>\n"
     ]
    },
    {
     "data": {
      "text/plain": [
       "[]"
      ]
     },
     "execution_count": 22,
     "metadata": {},
     "output_type": "execute_result"
    }
   ],
   "source": [
    "get_article_urls('https://www.vedomosti.ru/archive/2016/10/18')"
   ]
  },
  {
   "cell_type": "code",
   "execution_count": 13,
   "metadata": {},
   "outputs": [
    {
     "data": {
      "text/plain": [
       "['https://www.vedomosti.ru/archive/2016/1/1',\n",
       " 'https://www.vedomosti.ru/archive/2016/1/2',\n",
       " 'https://www.vedomosti.ru/archive/2016/1/3',\n",
       " 'https://www.vedomosti.ru/archive/2016/1/4',\n",
       " 'https://www.vedomosti.ru/archive/2016/1/5',\n",
       " 'https://www.vedomosti.ru/archive/2016/1/6',\n",
       " 'https://www.vedomosti.ru/archive/2016/1/7',\n",
       " 'https://www.vedomosti.ru/archive/2016/1/8',\n",
       " 'https://www.vedomosti.ru/archive/2016/1/9',\n",
       " 'https://www.vedomosti.ru/archive/2016/1/10',\n",
       " 'https://www.vedomosti.ru/archive/2016/1/11',\n",
       " 'https://www.vedomosti.ru/archive/2016/1/12',\n",
       " 'https://www.vedomosti.ru/archive/2016/1/13',\n",
       " 'https://www.vedomosti.ru/archive/2016/1/14',\n",
       " 'https://www.vedomosti.ru/archive/2016/1/15',\n",
       " 'https://www.vedomosti.ru/archive/2016/1/16',\n",
       " 'https://www.vedomosti.ru/archive/2016/1/17',\n",
       " 'https://www.vedomosti.ru/archive/2016/1/18',\n",
       " 'https://www.vedomosti.ru/archive/2016/1/19',\n",
       " 'https://www.vedomosti.ru/archive/2016/1/20',\n",
       " 'https://www.vedomosti.ru/archive/2016/1/21',\n",
       " 'https://www.vedomosti.ru/archive/2016/1/22',\n",
       " 'https://www.vedomosti.ru/archive/2016/1/23',\n",
       " 'https://www.vedomosti.ru/archive/2016/1/24',\n",
       " 'https://www.vedomosti.ru/archive/2016/1/25',\n",
       " 'https://www.vedomosti.ru/archive/2016/1/26',\n",
       " 'https://www.vedomosti.ru/archive/2016/1/27',\n",
       " 'https://www.vedomosti.ru/archive/2016/1/28',\n",
       " 'https://www.vedomosti.ru/archive/2016/2/1',\n",
       " 'https://www.vedomosti.ru/archive/2016/2/2',\n",
       " 'https://www.vedomosti.ru/archive/2016/2/3',\n",
       " 'https://www.vedomosti.ru/archive/2016/2/4',\n",
       " 'https://www.vedomosti.ru/archive/2016/2/5',\n",
       " 'https://www.vedomosti.ru/archive/2016/2/6',\n",
       " 'https://www.vedomosti.ru/archive/2016/2/7',\n",
       " 'https://www.vedomosti.ru/archive/2016/2/8',\n",
       " 'https://www.vedomosti.ru/archive/2016/2/9',\n",
       " 'https://www.vedomosti.ru/archive/2016/2/10',\n",
       " 'https://www.vedomosti.ru/archive/2016/2/11',\n",
       " 'https://www.vedomosti.ru/archive/2016/2/12',\n",
       " 'https://www.vedomosti.ru/archive/2016/2/13',\n",
       " 'https://www.vedomosti.ru/archive/2016/2/14',\n",
       " 'https://www.vedomosti.ru/archive/2016/2/15',\n",
       " 'https://www.vedomosti.ru/archive/2016/2/16',\n",
       " 'https://www.vedomosti.ru/archive/2016/2/17',\n",
       " 'https://www.vedomosti.ru/archive/2016/2/18',\n",
       " 'https://www.vedomosti.ru/archive/2016/2/19',\n",
       " 'https://www.vedomosti.ru/archive/2016/2/20',\n",
       " 'https://www.vedomosti.ru/archive/2016/2/21',\n",
       " 'https://www.vedomosti.ru/archive/2016/2/22',\n",
       " 'https://www.vedomosti.ru/archive/2016/2/23',\n",
       " 'https://www.vedomosti.ru/archive/2016/2/24',\n",
       " 'https://www.vedomosti.ru/archive/2016/2/25',\n",
       " 'https://www.vedomosti.ru/archive/2016/2/26',\n",
       " 'https://www.vedomosti.ru/archive/2016/2/27',\n",
       " 'https://www.vedomosti.ru/archive/2016/2/28',\n",
       " 'https://www.vedomosti.ru/archive/2016/3/1',\n",
       " 'https://www.vedomosti.ru/archive/2016/3/2',\n",
       " 'https://www.vedomosti.ru/archive/2016/3/3',\n",
       " 'https://www.vedomosti.ru/archive/2016/3/4',\n",
       " 'https://www.vedomosti.ru/archive/2016/3/5',\n",
       " 'https://www.vedomosti.ru/archive/2016/3/6',\n",
       " 'https://www.vedomosti.ru/archive/2016/3/7',\n",
       " 'https://www.vedomosti.ru/archive/2016/3/8',\n",
       " 'https://www.vedomosti.ru/archive/2016/3/9',\n",
       " 'https://www.vedomosti.ru/archive/2016/3/10',\n",
       " 'https://www.vedomosti.ru/archive/2016/3/11',\n",
       " 'https://www.vedomosti.ru/archive/2016/3/12',\n",
       " 'https://www.vedomosti.ru/archive/2016/3/13',\n",
       " 'https://www.vedomosti.ru/archive/2016/3/14',\n",
       " 'https://www.vedomosti.ru/archive/2016/3/15',\n",
       " 'https://www.vedomosti.ru/archive/2016/3/16',\n",
       " 'https://www.vedomosti.ru/archive/2016/3/17',\n",
       " 'https://www.vedomosti.ru/archive/2016/3/18',\n",
       " 'https://www.vedomosti.ru/archive/2016/3/19',\n",
       " 'https://www.vedomosti.ru/archive/2016/3/20',\n",
       " 'https://www.vedomosti.ru/archive/2016/3/21',\n",
       " 'https://www.vedomosti.ru/archive/2016/3/22',\n",
       " 'https://www.vedomosti.ru/archive/2016/3/23',\n",
       " 'https://www.vedomosti.ru/archive/2016/3/24',\n",
       " 'https://www.vedomosti.ru/archive/2016/3/25',\n",
       " 'https://www.vedomosti.ru/archive/2016/3/26',\n",
       " 'https://www.vedomosti.ru/archive/2016/3/27',\n",
       " 'https://www.vedomosti.ru/archive/2016/3/28',\n",
       " 'https://www.vedomosti.ru/archive/2016/4/1',\n",
       " 'https://www.vedomosti.ru/archive/2016/4/2',\n",
       " 'https://www.vedomosti.ru/archive/2016/4/3',\n",
       " 'https://www.vedomosti.ru/archive/2016/4/4',\n",
       " 'https://www.vedomosti.ru/archive/2016/4/5',\n",
       " 'https://www.vedomosti.ru/archive/2016/4/6',\n",
       " 'https://www.vedomosti.ru/archive/2016/4/7',\n",
       " 'https://www.vedomosti.ru/archive/2016/4/8',\n",
       " 'https://www.vedomosti.ru/archive/2016/4/9',\n",
       " 'https://www.vedomosti.ru/archive/2016/4/10',\n",
       " 'https://www.vedomosti.ru/archive/2016/4/11',\n",
       " 'https://www.vedomosti.ru/archive/2016/4/12',\n",
       " 'https://www.vedomosti.ru/archive/2016/4/13',\n",
       " 'https://www.vedomosti.ru/archive/2016/4/14',\n",
       " 'https://www.vedomosti.ru/archive/2016/4/15',\n",
       " 'https://www.vedomosti.ru/archive/2016/4/16',\n",
       " 'https://www.vedomosti.ru/archive/2016/4/17',\n",
       " 'https://www.vedomosti.ru/archive/2016/4/18',\n",
       " 'https://www.vedomosti.ru/archive/2016/4/19',\n",
       " 'https://www.vedomosti.ru/archive/2016/4/20',\n",
       " 'https://www.vedomosti.ru/archive/2016/4/21',\n",
       " 'https://www.vedomosti.ru/archive/2016/4/22',\n",
       " 'https://www.vedomosti.ru/archive/2016/4/23',\n",
       " 'https://www.vedomosti.ru/archive/2016/4/24',\n",
       " 'https://www.vedomosti.ru/archive/2016/4/25',\n",
       " 'https://www.vedomosti.ru/archive/2016/4/26',\n",
       " 'https://www.vedomosti.ru/archive/2016/4/27',\n",
       " 'https://www.vedomosti.ru/archive/2016/4/28',\n",
       " 'https://www.vedomosti.ru/archive/2016/5/1',\n",
       " 'https://www.vedomosti.ru/archive/2016/5/2',\n",
       " 'https://www.vedomosti.ru/archive/2016/5/3',\n",
       " 'https://www.vedomosti.ru/archive/2016/5/4',\n",
       " 'https://www.vedomosti.ru/archive/2016/5/5',\n",
       " 'https://www.vedomosti.ru/archive/2016/5/6',\n",
       " 'https://www.vedomosti.ru/archive/2016/5/7',\n",
       " 'https://www.vedomosti.ru/archive/2016/5/8',\n",
       " 'https://www.vedomosti.ru/archive/2016/5/9',\n",
       " 'https://www.vedomosti.ru/archive/2016/5/10',\n",
       " 'https://www.vedomosti.ru/archive/2016/5/11',\n",
       " 'https://www.vedomosti.ru/archive/2016/5/12',\n",
       " 'https://www.vedomosti.ru/archive/2016/5/13',\n",
       " 'https://www.vedomosti.ru/archive/2016/5/14',\n",
       " 'https://www.vedomosti.ru/archive/2016/5/15',\n",
       " 'https://www.vedomosti.ru/archive/2016/5/16',\n",
       " 'https://www.vedomosti.ru/archive/2016/5/17',\n",
       " 'https://www.vedomosti.ru/archive/2016/5/18',\n",
       " 'https://www.vedomosti.ru/archive/2016/5/19',\n",
       " 'https://www.vedomosti.ru/archive/2016/5/20',\n",
       " 'https://www.vedomosti.ru/archive/2016/5/21',\n",
       " 'https://www.vedomosti.ru/archive/2016/5/22',\n",
       " 'https://www.vedomosti.ru/archive/2016/5/23',\n",
       " 'https://www.vedomosti.ru/archive/2016/5/24',\n",
       " 'https://www.vedomosti.ru/archive/2016/5/25',\n",
       " 'https://www.vedomosti.ru/archive/2016/5/26',\n",
       " 'https://www.vedomosti.ru/archive/2016/5/27',\n",
       " 'https://www.vedomosti.ru/archive/2016/5/28',\n",
       " 'https://www.vedomosti.ru/archive/2016/6/1',\n",
       " 'https://www.vedomosti.ru/archive/2016/6/2',\n",
       " 'https://www.vedomosti.ru/archive/2016/6/3',\n",
       " 'https://www.vedomosti.ru/archive/2016/6/4',\n",
       " 'https://www.vedomosti.ru/archive/2016/6/5',\n",
       " 'https://www.vedomosti.ru/archive/2016/6/6',\n",
       " 'https://www.vedomosti.ru/archive/2016/6/7',\n",
       " 'https://www.vedomosti.ru/archive/2016/6/8',\n",
       " 'https://www.vedomosti.ru/archive/2016/6/9',\n",
       " 'https://www.vedomosti.ru/archive/2016/6/10',\n",
       " 'https://www.vedomosti.ru/archive/2016/6/11',\n",
       " 'https://www.vedomosti.ru/archive/2016/6/12',\n",
       " 'https://www.vedomosti.ru/archive/2016/6/13',\n",
       " 'https://www.vedomosti.ru/archive/2016/6/14',\n",
       " 'https://www.vedomosti.ru/archive/2016/6/15',\n",
       " 'https://www.vedomosti.ru/archive/2016/6/16',\n",
       " 'https://www.vedomosti.ru/archive/2016/6/17',\n",
       " 'https://www.vedomosti.ru/archive/2016/6/18',\n",
       " 'https://www.vedomosti.ru/archive/2016/6/19',\n",
       " 'https://www.vedomosti.ru/archive/2016/6/20',\n",
       " 'https://www.vedomosti.ru/archive/2016/6/21',\n",
       " 'https://www.vedomosti.ru/archive/2016/6/22',\n",
       " 'https://www.vedomosti.ru/archive/2016/6/23',\n",
       " 'https://www.vedomosti.ru/archive/2016/6/24',\n",
       " 'https://www.vedomosti.ru/archive/2016/6/25',\n",
       " 'https://www.vedomosti.ru/archive/2016/6/26',\n",
       " 'https://www.vedomosti.ru/archive/2016/6/27',\n",
       " 'https://www.vedomosti.ru/archive/2016/6/28',\n",
       " 'https://www.vedomosti.ru/archive/2016/7/1',\n",
       " 'https://www.vedomosti.ru/archive/2016/7/2',\n",
       " 'https://www.vedomosti.ru/archive/2016/7/3',\n",
       " 'https://www.vedomosti.ru/archive/2016/7/4',\n",
       " 'https://www.vedomosti.ru/archive/2016/7/5',\n",
       " 'https://www.vedomosti.ru/archive/2016/7/6',\n",
       " 'https://www.vedomosti.ru/archive/2016/7/7',\n",
       " 'https://www.vedomosti.ru/archive/2016/7/8',\n",
       " 'https://www.vedomosti.ru/archive/2016/7/9',\n",
       " 'https://www.vedomosti.ru/archive/2016/7/10',\n",
       " 'https://www.vedomosti.ru/archive/2016/7/11',\n",
       " 'https://www.vedomosti.ru/archive/2016/7/12',\n",
       " 'https://www.vedomosti.ru/archive/2016/7/13',\n",
       " 'https://www.vedomosti.ru/archive/2016/7/14',\n",
       " 'https://www.vedomosti.ru/archive/2016/7/15',\n",
       " 'https://www.vedomosti.ru/archive/2016/7/16',\n",
       " 'https://www.vedomosti.ru/archive/2016/7/17',\n",
       " 'https://www.vedomosti.ru/archive/2016/7/18',\n",
       " 'https://www.vedomosti.ru/archive/2016/7/19',\n",
       " 'https://www.vedomosti.ru/archive/2016/7/20',\n",
       " 'https://www.vedomosti.ru/archive/2016/7/21',\n",
       " 'https://www.vedomosti.ru/archive/2016/7/22',\n",
       " 'https://www.vedomosti.ru/archive/2016/7/23',\n",
       " 'https://www.vedomosti.ru/archive/2016/7/24',\n",
       " 'https://www.vedomosti.ru/archive/2016/7/25',\n",
       " 'https://www.vedomosti.ru/archive/2016/7/26',\n",
       " 'https://www.vedomosti.ru/archive/2016/7/27',\n",
       " 'https://www.vedomosti.ru/archive/2016/7/28',\n",
       " 'https://www.vedomosti.ru/archive/2016/8/1',\n",
       " 'https://www.vedomosti.ru/archive/2016/8/2',\n",
       " 'https://www.vedomosti.ru/archive/2016/8/3',\n",
       " 'https://www.vedomosti.ru/archive/2016/8/4',\n",
       " 'https://www.vedomosti.ru/archive/2016/8/5',\n",
       " 'https://www.vedomosti.ru/archive/2016/8/6',\n",
       " 'https://www.vedomosti.ru/archive/2016/8/7',\n",
       " 'https://www.vedomosti.ru/archive/2016/8/8',\n",
       " 'https://www.vedomosti.ru/archive/2016/8/9',\n",
       " 'https://www.vedomosti.ru/archive/2016/8/10',\n",
       " 'https://www.vedomosti.ru/archive/2016/8/11',\n",
       " 'https://www.vedomosti.ru/archive/2016/8/12',\n",
       " 'https://www.vedomosti.ru/archive/2016/8/13',\n",
       " 'https://www.vedomosti.ru/archive/2016/8/14',\n",
       " 'https://www.vedomosti.ru/archive/2016/8/15',\n",
       " 'https://www.vedomosti.ru/archive/2016/8/16',\n",
       " 'https://www.vedomosti.ru/archive/2016/8/17',\n",
       " 'https://www.vedomosti.ru/archive/2016/8/18',\n",
       " 'https://www.vedomosti.ru/archive/2016/8/19',\n",
       " 'https://www.vedomosti.ru/archive/2016/8/20',\n",
       " 'https://www.vedomosti.ru/archive/2016/8/21',\n",
       " 'https://www.vedomosti.ru/archive/2016/8/22',\n",
       " 'https://www.vedomosti.ru/archive/2016/8/23',\n",
       " 'https://www.vedomosti.ru/archive/2016/8/24',\n",
       " 'https://www.vedomosti.ru/archive/2016/8/25',\n",
       " 'https://www.vedomosti.ru/archive/2016/8/26',\n",
       " 'https://www.vedomosti.ru/archive/2016/8/27',\n",
       " 'https://www.vedomosti.ru/archive/2016/8/28',\n",
       " 'https://www.vedomosti.ru/archive/2016/9/1',\n",
       " 'https://www.vedomosti.ru/archive/2016/9/2',\n",
       " 'https://www.vedomosti.ru/archive/2016/9/3',\n",
       " 'https://www.vedomosti.ru/archive/2016/9/4',\n",
       " 'https://www.vedomosti.ru/archive/2016/9/5',\n",
       " 'https://www.vedomosti.ru/archive/2016/9/6',\n",
       " 'https://www.vedomosti.ru/archive/2016/9/7',\n",
       " 'https://www.vedomosti.ru/archive/2016/9/8',\n",
       " 'https://www.vedomosti.ru/archive/2016/9/9',\n",
       " 'https://www.vedomosti.ru/archive/2016/9/10',\n",
       " 'https://www.vedomosti.ru/archive/2016/9/11',\n",
       " 'https://www.vedomosti.ru/archive/2016/9/12',\n",
       " 'https://www.vedomosti.ru/archive/2016/9/13',\n",
       " 'https://www.vedomosti.ru/archive/2016/9/14',\n",
       " 'https://www.vedomosti.ru/archive/2016/9/15',\n",
       " 'https://www.vedomosti.ru/archive/2016/9/16',\n",
       " 'https://www.vedomosti.ru/archive/2016/9/17',\n",
       " 'https://www.vedomosti.ru/archive/2016/9/18',\n",
       " 'https://www.vedomosti.ru/archive/2016/9/19',\n",
       " 'https://www.vedomosti.ru/archive/2016/9/20',\n",
       " 'https://www.vedomosti.ru/archive/2016/9/21',\n",
       " 'https://www.vedomosti.ru/archive/2016/9/22',\n",
       " 'https://www.vedomosti.ru/archive/2016/9/23',\n",
       " 'https://www.vedomosti.ru/archive/2016/9/24',\n",
       " 'https://www.vedomosti.ru/archive/2016/9/25',\n",
       " 'https://www.vedomosti.ru/archive/2016/9/26',\n",
       " 'https://www.vedomosti.ru/archive/2016/9/27',\n",
       " 'https://www.vedomosti.ru/archive/2016/9/28',\n",
       " 'https://www.vedomosti.ru/archive/2016/10/1',\n",
       " 'https://www.vedomosti.ru/archive/2016/10/2',\n",
       " 'https://www.vedomosti.ru/archive/2016/10/3',\n",
       " 'https://www.vedomosti.ru/archive/2016/10/4',\n",
       " 'https://www.vedomosti.ru/archive/2016/10/5',\n",
       " 'https://www.vedomosti.ru/archive/2016/10/6',\n",
       " 'https://www.vedomosti.ru/archive/2016/10/7',\n",
       " 'https://www.vedomosti.ru/archive/2016/10/8',\n",
       " 'https://www.vedomosti.ru/archive/2016/10/9',\n",
       " 'https://www.vedomosti.ru/archive/2016/10/10',\n",
       " 'https://www.vedomosti.ru/archive/2016/10/11',\n",
       " 'https://www.vedomosti.ru/archive/2016/10/12',\n",
       " 'https://www.vedomosti.ru/archive/2016/10/13',\n",
       " 'https://www.vedomosti.ru/archive/2016/10/14',\n",
       " 'https://www.vedomosti.ru/archive/2016/10/15',\n",
       " 'https://www.vedomosti.ru/archive/2016/10/16',\n",
       " 'https://www.vedomosti.ru/archive/2016/10/17',\n",
       " 'https://www.vedomosti.ru/archive/2016/10/18',\n",
       " 'https://www.vedomosti.ru/archive/2016/10/19',\n",
       " 'https://www.vedomosti.ru/archive/2016/10/20',\n",
       " 'https://www.vedomosti.ru/archive/2016/10/21',\n",
       " 'https://www.vedomosti.ru/archive/2016/10/22',\n",
       " 'https://www.vedomosti.ru/archive/2016/10/23',\n",
       " 'https://www.vedomosti.ru/archive/2016/10/24',\n",
       " 'https://www.vedomosti.ru/archive/2016/10/25',\n",
       " 'https://www.vedomosti.ru/archive/2016/10/26',\n",
       " 'https://www.vedomosti.ru/archive/2016/10/27',\n",
       " 'https://www.vedomosti.ru/archive/2016/10/28',\n",
       " 'https://www.vedomosti.ru/archive/2016/11/1',\n",
       " 'https://www.vedomosti.ru/archive/2016/11/2',\n",
       " 'https://www.vedomosti.ru/archive/2016/11/3',\n",
       " 'https://www.vedomosti.ru/archive/2016/11/4',\n",
       " 'https://www.vedomosti.ru/archive/2016/11/5',\n",
       " 'https://www.vedomosti.ru/archive/2016/11/6',\n",
       " 'https://www.vedomosti.ru/archive/2016/11/7',\n",
       " 'https://www.vedomosti.ru/archive/2016/11/8',\n",
       " 'https://www.vedomosti.ru/archive/2016/11/9',\n",
       " 'https://www.vedomosti.ru/archive/2016/11/10',\n",
       " 'https://www.vedomosti.ru/archive/2016/11/11',\n",
       " 'https://www.vedomosti.ru/archive/2016/11/12',\n",
       " 'https://www.vedomosti.ru/archive/2016/11/13',\n",
       " 'https://www.vedomosti.ru/archive/2016/11/14',\n",
       " 'https://www.vedomosti.ru/archive/2016/11/15',\n",
       " 'https://www.vedomosti.ru/archive/2016/11/16',\n",
       " 'https://www.vedomosti.ru/archive/2016/11/17',\n",
       " 'https://www.vedomosti.ru/archive/2016/11/18',\n",
       " 'https://www.vedomosti.ru/archive/2016/11/19',\n",
       " 'https://www.vedomosti.ru/archive/2016/11/20',\n",
       " 'https://www.vedomosti.ru/archive/2016/11/21',\n",
       " 'https://www.vedomosti.ru/archive/2016/11/22',\n",
       " 'https://www.vedomosti.ru/archive/2016/11/23',\n",
       " 'https://www.vedomosti.ru/archive/2016/11/24',\n",
       " 'https://www.vedomosti.ru/archive/2016/11/25',\n",
       " 'https://www.vedomosti.ru/archive/2016/11/26',\n",
       " 'https://www.vedomosti.ru/archive/2016/11/27',\n",
       " 'https://www.vedomosti.ru/archive/2016/11/28',\n",
       " 'https://www.vedomosti.ru/archive/2016/12/1',\n",
       " 'https://www.vedomosti.ru/archive/2016/12/2',\n",
       " 'https://www.vedomosti.ru/archive/2016/12/3',\n",
       " 'https://www.vedomosti.ru/archive/2016/12/4',\n",
       " 'https://www.vedomosti.ru/archive/2016/12/5',\n",
       " 'https://www.vedomosti.ru/archive/2016/12/6',\n",
       " 'https://www.vedomosti.ru/archive/2016/12/7',\n",
       " 'https://www.vedomosti.ru/archive/2016/12/8',\n",
       " 'https://www.vedomosti.ru/archive/2016/12/9',\n",
       " 'https://www.vedomosti.ru/archive/2016/12/10',\n",
       " 'https://www.vedomosti.ru/archive/2016/12/11',\n",
       " 'https://www.vedomosti.ru/archive/2016/12/12',\n",
       " 'https://www.vedomosti.ru/archive/2016/12/13',\n",
       " 'https://www.vedomosti.ru/archive/2016/12/14',\n",
       " 'https://www.vedomosti.ru/archive/2016/12/15',\n",
       " 'https://www.vedomosti.ru/archive/2016/12/16',\n",
       " 'https://www.vedomosti.ru/archive/2016/12/17',\n",
       " 'https://www.vedomosti.ru/archive/2016/12/18',\n",
       " 'https://www.vedomosti.ru/archive/2016/12/19',\n",
       " 'https://www.vedomosti.ru/archive/2016/12/20',\n",
       " 'https://www.vedomosti.ru/archive/2016/12/21',\n",
       " 'https://www.vedomosti.ru/archive/2016/12/22',\n",
       " 'https://www.vedomosti.ru/archive/2016/12/23',\n",
       " 'https://www.vedomosti.ru/archive/2016/12/24',\n",
       " 'https://www.vedomosti.ru/archive/2016/12/25',\n",
       " 'https://www.vedomosti.ru/archive/2016/12/26',\n",
       " 'https://www.vedomosti.ru/archive/2016/12/27',\n",
       " 'https://www.vedomosti.ru/archive/2016/12/28']"
      ]
     },
     "execution_count": 13,
     "metadata": {},
     "output_type": "execute_result"
    }
   ],
   "source": [
    "url_dates"
   ]
  },
  {
   "cell_type": "code",
   "execution_count": 14,
   "metadata": {},
   "outputs": [
    {
     "ename": "NameError",
     "evalue": "name 'url_articles' is not defined",
     "output_type": "error",
     "traceback": [
      "\u001b[0;31m---------------------------------------------------------------------------\u001b[0m",
      "\u001b[0;31mNameError\u001b[0m                                 Traceback (most recent call last)",
      "\u001b[0;32m<ipython-input-14-553abe9c8bf3>\u001b[0m in \u001b[0;36m<module>\u001b[0;34m\u001b[0m\n\u001b[0;32m----> 1\u001b[0;31m \u001b[0mlen\u001b[0m\u001b[0;34m(\u001b[0m\u001b[0murl_articles\u001b[0m\u001b[0;34m)\u001b[0m\u001b[0;34m\u001b[0m\u001b[0;34m\u001b[0m\u001b[0m\n\u001b[0m",
      "\u001b[0;31mNameError\u001b[0m: name 'url_articles' is not defined"
     ]
    }
   ],
   "source": [
    "len(url_articles)"
   ]
  },
  {
   "cell_type": "markdown",
   "metadata": {},
   "source": [
    "ограничимся пока 10000 статьями"
   ]
  },
  {
   "cell_type": "code",
   "execution_count": null,
   "metadata": {
    "collapsed": true
   },
   "outputs": [],
   "source": [
    "urls = url_articles[:10000]"
   ]
  },
  {
   "cell_type": "code",
   "execution_count": null,
   "metadata": {
    "collapsed": true
   },
   "outputs": [],
   "source": [
    "df = pd.DataFrame({\"url\": urls})"
   ]
  },
  {
   "cell_type": "code",
   "execution_count": null,
   "metadata": {
    "collapsed": true
   },
   "outputs": [],
   "source": [
    "df[\"topic\"] = df.url.apply(lambda x: x.split('/')[3])\n",
    "df[\"format\"] = df.url.apply(lambda x: x.split('/')[4])"
   ]
  },
  {
   "cell_type": "code",
   "execution_count": null,
   "metadata": {},
   "outputs": [],
   "source": [
    "df.head()"
   ]
  },
  {
   "cell_type": "markdown",
   "metadata": {},
   "source": [
    "скачаем тексты статей"
   ]
  },
  {
   "cell_type": "code",
   "execution_count": null,
   "metadata": {},
   "outputs": [],
   "source": [
    "%%time\n",
    "headers_texts = pool.map(get_article_text, urls)"
   ]
  },
  {
   "cell_type": "code",
   "execution_count": null,
   "metadata": {
    "collapsed": true
   },
   "outputs": [],
   "source": [
    "pool.close()\n",
    "pool.join()"
   ]
  },
  {
   "cell_type": "markdown",
   "metadata": {},
   "source": [
    "объединим в датасет"
   ]
  },
  {
   "cell_type": "code",
   "execution_count": null,
   "metadata": {
    "collapsed": true
   },
   "outputs": [],
   "source": [
    "df[\"header\"] = [t[0] for t in headers_texts]\n",
    "df[\"text\"] = [t[1] for t in headers_texts]"
   ]
  },
  {
   "cell_type": "code",
   "execution_count": null,
   "metadata": {},
   "outputs": [],
   "source": [
    "df.head()"
   ]
  },
  {
   "cell_type": "code",
   "execution_count": null,
   "metadata": {},
   "outputs": [],
   "source": [
    "df.shape"
   ]
  },
  {
   "cell_type": "code",
   "execution_count": null,
   "metadata": {
    "collapsed": true
   },
   "outputs": [],
   "source": [
    "df.to_pickle('vedomosti_archive.pkl')"
   ]
  },
  {
   "cell_type": "markdown",
   "metadata": {},
   "source": [
    "длина заголовка"
   ]
  },
  {
   "cell_type": "code",
   "execution_count": null,
   "metadata": {},
   "outputs": [],
   "source": [
    "df.header.apply(len).hist()"
   ]
  },
  {
   "cell_type": "markdown",
   "metadata": {},
   "source": [
    "длина текста"
   ]
  },
  {
   "cell_type": "code",
   "execution_count": null,
   "metadata": {},
   "outputs": [],
   "source": [
    "df.text.apply(len).hist()"
   ]
  },
  {
   "cell_type": "markdown",
   "metadata": {},
   "source": [
    "длина текста, крупнее"
   ]
  },
  {
   "cell_type": "code",
   "execution_count": null,
   "metadata": {},
   "outputs": [],
   "source": [
    "df[df.text.apply(len)<3000].text.apply(len).hist()"
   ]
  },
  {
   "cell_type": "markdown",
   "metadata": {},
   "source": [
    "# Лемматизация слов"
   ]
  },
  {
   "cell_type": "markdown",
   "metadata": {},
   "source": [
    "приведём все слова в текстах к начальной форме слова - так мы сильно сократим размерность пространства признаков"
   ]
  },
  {
   "cell_type": "markdown",
   "metadata": {},
   "source": [
    "хоть pymorphy2 и достаточно быстрый, лучше его упаковывать в класс со своим кэшем (который хорошо бы ещё куда-то выгружать при окончании и загружать в начале работы, это можете доделать. Удобно для этих целей использовать json)"
   ]
  },
  {
   "cell_type": "code",
   "execution_count": null,
   "metadata": {
    "collapsed": true
   },
   "outputs": [],
   "source": [
    "import pymorphy2\n",
    "from nltk.tokenize import word_tokenize"
   ]
  },
  {
   "cell_type": "code",
   "execution_count": null,
   "metadata": {
    "collapsed": true
   },
   "outputs": [],
   "source": [
    "class MorphProvider:\n",
    "    def __init__(self):\n",
    "        self.cache = {}\n",
    "        self.morph = pymorphy2.MorphAnalyzer()\n",
    "    \n",
    "    def __call__(self, w):\n",
    "        w = w.lower()\n",
    "        cached = self.cache.get(w)\n",
    "        if cached:\n",
    "            return cached\n",
    "        try:\n",
    "            morphed = self.morph.parse(w)[0].normal_form\n",
    "            self.cache[w] = morphed\n",
    "            return morphed\n",
    "        except:\n",
    "            return None\n",
    "    \n",
    "    def morph_string(self, s):\n",
    "        words = word_tokenize(s)\n",
    "        return \" \".join([self.__call__(w) for w in words])"
   ]
  },
  {
   "cell_type": "code",
   "execution_count": null,
   "metadata": {
    "collapsed": true
   },
   "outputs": [],
   "source": [
    "morph = MorphProvider()"
   ]
  },
  {
   "cell_type": "code",
   "execution_count": null,
   "metadata": {
    "collapsed": true
   },
   "outputs": [],
   "source": [
    "from tqdm import tqdm"
   ]
  },
  {
   "cell_type": "code",
   "execution_count": null,
   "metadata": {},
   "outputs": [],
   "source": [
    "df[\"normalized\"] = [morph.morph_string(t) for t in tqdm(df.text)]"
   ]
  },
  {
   "cell_type": "code",
   "execution_count": null,
   "metadata": {
    "collapsed": true
   },
   "outputs": [],
   "source": [
    "df.to_pickle('vedomosti_archive.pkl')"
   ]
  },
  {
   "cell_type": "markdown",
   "metadata": {},
   "source": [
    "# Облако слов"
   ]
  },
  {
   "cell_type": "markdown",
   "metadata": {},
   "source": [
    "*4 fun*"
   ]
  },
  {
   "cell_type": "code",
   "execution_count": null,
   "metadata": {
    "collapsed": true
   },
   "outputs": [],
   "source": [
    "from collections import Counter"
   ]
  },
  {
   "cell_type": "code",
   "execution_count": null,
   "metadata": {
    "collapsed": true
   },
   "outputs": [],
   "source": [
    "words = [w for w in \" \".join(df.normalized).split() if len(w)>2]"
   ]
  },
  {
   "cell_type": "code",
   "execution_count": null,
   "metadata": {},
   "outputs": [],
   "source": [
    "Counter(words).most_common()[:20]"
   ]
  },
  {
   "cell_type": "code",
   "execution_count": null,
   "metadata": {
    "collapsed": true
   },
   "outputs": [],
   "source": [
    "from wordcloud import WordCloud\n",
    "\n",
    "def get_wordcloud(text,max_font_size=None):\n",
    "    wordcloud = WordCloud(max_font_size=max_font_size).generate(text)\n",
    "    plt.imshow(wordcloud)\n",
    "    plt.axis(\"off\")"
   ]
  },
  {
   "cell_type": "code",
   "execution_count": null,
   "metadata": {},
   "outputs": [],
   "source": [
    "get_wordcloud(' '.join(words))"
   ]
  },
  {
   "cell_type": "code",
   "execution_count": null,
   "metadata": {},
   "outputs": [],
   "source": [
    "get_wordcloud(' '.join(words), max_font_size=50)"
   ]
  },
  {
   "cell_type": "markdown",
   "metadata": {},
   "source": [
    "-----"
   ]
  }
 ],
 "metadata": {
  "anaconda-cloud": {},
  "kernelspec": {
   "display_name": "Python 3",
   "language": "python",
   "name": "python3"
  },
  "language_info": {
   "codemirror_mode": {
    "name": "ipython",
    "version": 3
   },
   "file_extension": ".py",
   "mimetype": "text/x-python",
   "name": "python",
   "nbconvert_exporter": "python",
   "pygments_lexer": "ipython3",
   "version": "3.7.4"
  }
 },
 "nbformat": 4,
 "nbformat_minor": 2
}
